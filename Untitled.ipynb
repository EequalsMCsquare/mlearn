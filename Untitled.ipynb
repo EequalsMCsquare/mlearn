{
 "cells": [
  {
   "cell_type": "code",
   "execution_count": 1,
   "metadata": {},
   "outputs": [],
   "source": [
    "import mlearn_cuda as mlearn\n",
    "from torchvision import datasets\n",
    "from mlearn_cuda.models import Seq\n",
    "from mlearn_cuda.utils import DataLoader,pre_F\n",
    "from mlearn_cuda import layers\n",
    "from mlearn_cuda import functional as F"
   ]
  },
  {
   "cell_type": "code",
   "execution_count": 2,
   "metadata": {},
   "outputs": [],
   "source": [
    "train = datasets.MNIST(\"datasets\",train=True,download=False)\n",
    "test = datasets.MNIST(\"datasets\",train=False,download=False)\n",
    "\n",
    "pre = [pre_F.normalize_MinMax]\n",
    "\n",
    "trainset = DataLoader((train.data, train.targets),batch_size=32,\n",
    "                      shuffle=True,preprocessing=pre)\n",
    "testset = DataLoader((test.data,test.targets),batch_size=32,\n",
    "                    shuffle=True,preprocessing=pre)"
   ]
  },
  {
   "cell_type": "code",
   "execution_count": 6,
   "metadata": {},
   "outputs": [],
   "source": [
    "model = Seq([\n",
    "    layers.Flatten(),\n",
    "    layers.Tanh(),\n",
    "    layers.Dense(784,10),\n",
    "    layers.ReLU(),\n",
    "    ])\n"
   ]
  },
  {
   "cell_type": "code",
   "execution_count": 7,
   "metadata": {},
   "outputs": [],
   "source": [
    "optimizer = mlearn.optimizers.RMSProp(model)\n",
    "criterion = mlearn.CrossEntropy()\n",
    "model.compile(optimizer, criterion)"
   ]
  },
  {
   "cell_type": "code",
   "execution_count": 8,
   "metadata": {},
   "outputs": [
    {
     "name": "stdout",
     "output_type": "stream",
     "text": [
      "1/3 Batch 1874/1875  [                    ] -> Loss 2.55826\n",
      "2/3 Batch 1874/1875  [                    ] -> Loss 2.55826\n",
      "3/3 Batch 1874/1875  [                    ] -> Loss 2.55826\n",
      "Trainning Complete!\n"
     ]
    }
   ],
   "source": [
    "model.fit(trainset,3)"
   ]
  },
  {
   "cell_type": "code",
   "execution_count": null,
   "metadata": {},
   "outputs": [],
   "source": []
  }
 ],
 "metadata": {
  "kernelspec": {
   "display_name": "Python 3",
   "language": "python",
   "name": "python3"
  },
  "language_info": {
   "codemirror_mode": {
    "name": "ipython",
    "version": 3
   },
   "file_extension": ".py",
   "mimetype": "text/x-python",
   "name": "python",
   "nbconvert_exporter": "python",
   "pygments_lexer": "ipython3",
   "version": "3.7.5"
  }
 },
 "nbformat": 4,
 "nbformat_minor": 4
}

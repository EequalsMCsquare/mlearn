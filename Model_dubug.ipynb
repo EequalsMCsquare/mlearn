{
 "cells": [
  {
   "cell_type": "markdown",
   "metadata": {},
   "source": [
    "# 预测的时候有问题"
   ]
  },
  {
   "cell_type": "code",
   "execution_count": 3,
   "metadata": {},
   "outputs": [],
   "source": [
    "import mlearn_cpu as mlearn\n",
    "from torchvision import datasets\n",
    "from mlearn_cpu.models import Seq\n",
    "from mlearn_cpu.utils import DataLoader,pre_F\n",
    "from mlearn_cpu import layers\n",
    "from mlearn_cpu import functional as F\n",
    "import matplotlib.pyplot as plt"
   ]
  },
  {
   "cell_type": "code",
   "execution_count": 4,
   "metadata": {},
   "outputs": [],
   "source": [
    "train = datasets.FashionMNIST(\"datasets\",train=True,download=False)\n",
    "test = datasets.FashionMNIST(\"datasets\",train=False,download=False)\n",
    "\n",
    "pre = [pre_F.normalize_MinMax]\n",
    "\n",
    "trainset = DataLoader((train.data, train.targets),batch_size=32,\n",
    "                      shuffle=True,preprocessing=pre)\n",
    "testset = DataLoader((test.data,test.targets),batch_size=32,\n",
    "                    shuffle=True,preprocessing=pre)"
   ]
  },
  {
   "cell_type": "code",
   "execution_count": 11,
   "metadata": {},
   "outputs": [],
   "source": [
    "model = Seq([\n",
    "    layers.Flatten(),\n",
    "    layers.Dense(784,300),\n",
    "    layers.Tanh(),\n",
    "    layers.Dense(300,10),\n",
    "    layers.ReLU()\n",
    "])\n"
   ]
  },
  {
   "cell_type": "code",
   "execution_count": 12,
   "metadata": {},
   "outputs": [],
   "source": [
    "optimizer = mlearn.optimizers.SGD(model)\n",
    "criterion = mlearn.CrossEntropy()\n",
    "model.compile(optimizer, criterion)"
   ]
  },
  {
   "cell_type": "code",
   "execution_count": 13,
   "metadata": {},
   "outputs": [
    {
     "name": "stdout",
     "output_type": "stream",
     "text": [
      "1/1 Batch 1874/1875  [                    ] -> Loss 0.31611\n",
      "Trainning Complete!\n"
     ]
    }
   ],
   "source": [
    "hist = model.fit(trainset,1)"
   ]
  },
  {
   "cell_type": "markdown",
   "metadata": {},
   "source": [
    "CUDA: 19.1 s ± 35.3 ms per loop (mean ± std. dev. of 7 runs, 1 loop each)  \n",
    "CPU: 5.79 s ± 33.4 ms per loop (mean ± std. dev. of 7 runs, 1 loop each)"
   ]
  },
  {
   "cell_type": "code",
   "execution_count": 14,
   "metadata": {},
   "outputs": [
    {
     "name": "stdout",
     "output_type": "stream",
     "text": [
      "9\n",
      "512\n",
      "Accuray: 0.01758\n"
     ]
    }
   ],
   "source": [
    "model.predict(testset)"
   ]
  },
  {
   "cell_type": "code",
   "execution_count": null,
   "metadata": {},
   "outputs": [],
   "source": []
  }
 ],
 "metadata": {
  "kernelspec": {
   "display_name": "Python 3",
   "language": "python",
   "name": "python3"
  },
  "language_info": {
   "codemirror_mode": {
    "name": "ipython",
    "version": 3
   },
   "file_extension": ".py",
   "mimetype": "text/x-python",
   "name": "python",
   "nbconvert_exporter": "python",
   "pygments_lexer": "ipython3",
   "version": "3.7.5"
  }
 },
 "nbformat": 4,
 "nbformat_minor": 4
}

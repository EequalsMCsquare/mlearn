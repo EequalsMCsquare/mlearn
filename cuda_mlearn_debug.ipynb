{
 "cells": [
  {
   "cell_type": "code",
   "execution_count": 1,
   "metadata": {},
   "outputs": [],
   "source": [
    "import mlearn_cuda as mlearn\n",
    "from mlearn_cuda import Module\n",
    "from mlearn_cuda import layers\n",
    "from mlearn_cuda.optimizer import RMSProp,SGD\n",
    "from mlearn_cuda.utils import DataLoader,pre_F\n",
    "from mlearn_cuda import functional as F\n",
    "from torchvision import datasets\n",
    "import cupy as cp\n",
    "import sys"
   ]
  },
  {
   "cell_type": "code",
   "execution_count": 18,
   "metadata": {},
   "outputs": [],
   "source": [
    "train = datasets.FashionMNIST(\"datasets/\",train=True,download=True)\n",
    "test = datasets.FashionMNIST(\"datasets/\",train=False,download=True)"
   ]
  },
  {
   "cell_type": "code",
   "execution_count": 19,
   "metadata": {},
   "outputs": [],
   "source": [
    "pre = [pre_F.normalize_MinMax]\n",
    "trainset = DataLoader((train.data,train.targets),batch_size=32, shuffle=True, preprocessing = pre)\n",
    "testset = DataLoader((test.data,test.targets),batch_size=32,shuffle=True, preprocessing=pre)"
   ]
  },
  {
   "cell_type": "code",
   "execution_count": 24,
   "metadata": {},
   "outputs": [],
   "source": [
    "class Net(mlearn.Module):\n",
    "    def __init__(self):\n",
    "        self.dense1 = layers.Dense(784,390)\n",
    "        self.dense2 = layers.Dense(390,128)\n",
    "        self.dense3 = layers.Dense(128,10)\n",
    "        \n",
    "    def forward(self, inputs):\n",
    "        o = self.dense1(inputs)\n",
    "        o = F.relu(o)\n",
    "        o = self.dense2(o)\n",
    "        o = F.tanh(o)\n",
    "        o = self.dense3(o)\n",
    "        return (F.tanh(o))\n",
    "net = Net()"
   ]
  },
  {
   "cell_type": "code",
   "execution_count": 25,
   "metadata": {},
   "outputs": [
    {
     "name": "stdout",
     "output_type": "stream",
     "text": [
      "1/5 Batch 1874/1562  [                    ] -> Loss 1.08480\n",
      "2/5 Batch 1874/1562  [                    ] -> Loss 1.14640\n",
      "3/5 Batch 1874/1562  [                    ] -> Loss 1.10980\n",
      "4/5 Batch 1874/1562  [                    ] -> Loss 1.10663\n",
      "5/5 Batch 1874/1562  [                    ] -> Loss 1.21548\n",
      "trainning completed!\n"
     ]
    }
   ],
   "source": [
    "hist = []\n",
    "import numpy as np\n",
    "optimizer = RMSProp(net,0.001)\n",
    "EPOCHS = 5\n",
    "net.zero_grad()\n",
    "for epoch in range(EPOCHS):\n",
    "    running_loss = 0.0\n",
    "    bar = \" \"*20\n",
    "    for i, batch in enumerate(trainset, 0):\n",
    "        features, labels = batch\n",
    "        net.zero_grad()\n",
    "        predict = net(features.reshape(-1,784))\n",
    "        loss = F.cross_entropy(predict,labels)\n",
    "        loss.backward()\n",
    "        shapes = optimizer.step()\n",
    "        running_loss += loss.data\n",
    "        print(f\"\\r{epoch+1}/{EPOCHS} Batch %-4d/1874  [{bar}] -> Loss %.5f\"%(i,loss.data), end=\"\")\n",
    "        sys.stdout.flush()\n",
    "    print()\n",
    "print('trainning completed!')"
   ]
  },
  {
   "cell_type": "code",
   "execution_count": 28,
   "metadata": {},
   "outputs": [
    {
     "name": "stdout",
     "output_type": "stream",
     "text": [
      "Accuracy 0.79343\n"
     ]
    }
   ],
   "source": [
    "correct = 0\n",
    "total = 0\n",
    "features = 0\n",
    "labels = 0\n",
    "for batch in testset:\n",
    "    features, labels = batch\n",
    "    o = net(features.reshape(-1,784))\n",
    "    predict = []\n",
    "    for x in o.data:\n",
    "        predict.append(cp.argmax(x))\n",
    "    for b in predict == cp.asnumpy(labels.data):\n",
    "        if b:\n",
    "            correct += 1\n",
    "    total += 32\n",
    "print(\"Accuracy %.5f\"%(correct / total))"
   ]
  },
  {
   "cell_type": "code",
   "execution_count": null,
   "metadata": {},
   "outputs": [],
   "source": []
  }
 ],
 "metadata": {
  "kernelspec": {
   "display_name": "Python 3",
   "language": "python",
   "name": "python3"
  },
  "language_info": {
   "codemirror_mode": {
    "name": "ipython",
    "version": 3
   },
   "file_extension": ".py",
   "mimetype": "text/x-python",
   "name": "python",
   "nbconvert_exporter": "python",
   "pygments_lexer": "ipython3",
   "version": "3.7.5"
  }
 },
 "nbformat": 4,
 "nbformat_minor": 4
}

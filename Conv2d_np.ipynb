{
 "cells": [
  {
   "cell_type": "markdown",
   "metadata": {},
   "source": [
    "# Performance Test"
   ]
  },
  {
   "cell_type": "code",
   "execution_count": 1,
   "metadata": {},
   "outputs": [],
   "source": [
    "import numpy as np\n",
    "import matplotlib.pyplot as plt\n",
    "import mlearn.functional as F\n",
    "import mlearn as mlearn\n",
    "import time\n",
    "import torch\n",
    "from time import time\n",
    "import sys\n",
    "from ctypes import POINTER, c_double"
   ]
  },
  {
   "cell_type": "code",
   "execution_count": 2,
   "metadata": {},
   "outputs": [],
   "source": [
    "EPOCHS = 500\n",
    "_inputs = np.random.randn(EPOCHS,32,3,32,32).astype(np.float32)\n",
    "_weights = np.random.randn(8,3,5,5).astype(np.float32)\n",
    "_bias = np.ones((8))"
   ]
  },
  {
   "cell_type": "code",
   "execution_count": 3,
   "metadata": {},
   "outputs": [
    {
     "name": "stdout",
     "output_type": "stream",
     "text": [
      "Tensor([  2.6658,  15.3152,   6.2044,  -4.0168, -12.0204, -13.1985,\n",
      "          8.8064,   6.5382,  -0.1669, -15.4537,   9.3900, -17.1896,\n",
      "          1.7938,   2.8899,  -3.3070,   7.1419,  12.8133,   1.9819,\n",
      "         -0.7478,  -6.2937,  -9.4049,  -2.5398,  -4.9162, -20.8104,\n",
      "         -6.0235,   2.9436,  13.9301,   0.3247])\n"
     ]
    }
   ],
   "source": [
    "# 3.15\n",
    "# 4.29\n",
    "inputs = mlearn.tensor(_inputs)\n",
    "weights = mlearn.tensor(_weights)\n",
    "bias = mlearn.tensor(_bias)\n",
    "\n",
    "start = time()\n",
    "for e,batch in enumerate(inputs):\n",
    "    c_out = F.conv_2d(batch,weights,bias,stride=1)\n",
    "#     print(f\"\\r{e+1}/{EPOCHS}\",end=\"\")\n",
    "#     sys.stdout.flush()\n",
    "# print()\n",
    "mlearn_conv = (time() - start)\n",
    "# ptr = (c_double*24*24*8).from_address(int(c_out[0].data))\n",
    "# c_out = np.ctypeslib.as_array(ptr)\n",
    "print(c_out[0,0,0])"
   ]
  },
  {
   "cell_type": "code",
   "execution_count": 4,
   "metadata": {},
   "outputs": [
    {
     "name": "stdout",
     "output_type": "stream",
     "text": [
      "tensor([  2.6658,  15.3152,   6.2044,  -4.0168, -12.0204, -13.1985,   8.8064,\n",
      "          6.5382,  -0.1669, -15.4537,   9.3900, -17.1896,   1.7938,   2.8899,\n",
      "         -3.3070,   7.1419,  12.8133,   1.9819,  -0.7478,  -6.2937,  -9.4049,\n",
      "         -2.5398,  -4.9162, -20.8104,  -6.0235,   2.9436,  13.9301,   0.3247],\n",
      "       dtype=torch.float64)\n"
     ]
    }
   ],
   "source": [
    "inputs = torch.tensor(_inputs)\n",
    "w = torch.tensor(_weights)\n",
    "b = torch.tensor(_bias)\n",
    "start = time()\n",
    "# for e,batch in enumerate(inputs):\n",
    "for e,batch in enumerate(inputs):\n",
    "    out = torch.nn.functional.conv2d(batch.double(),w.double(),b.double())\n",
    "#     print(f\"\\r{e+1}/{EPOCHS}\",end=\"\")\n",
    "#     sys.stdout.flush()\n",
    "# print()\n",
    "torch_conv = (time() - start)\n",
    "print(out[0,0,0])"
   ]
  },
  {
   "cell_type": "code",
   "execution_count": 5,
   "metadata": {},
   "outputs": [
    {
     "name": "stdout",
     "output_type": "stream",
     "text": [
      "mlearn -> 1.57137\n",
      "torch  -> 0.73913\n",
      "比Pytorch慢 2.12597倍\n"
     ]
    }
   ],
   "source": [
    "print(\"mlearn -> %.5f\"%mlearn_conv)\n",
    "print(\"torch  -> %.5f\"%torch_conv)\n",
    "print(\"比Pytorch慢 %.5f倍\"%(mlearn_conv/torch_conv))"
   ]
  },
  {
   "cell_type": "code",
   "execution_count": 6,
   "metadata": {},
   "outputs": [],
   "source": [
    "# 无OpenMP\n",
    "# mlearn -> 8.89202\n",
    "# torch  -> 4.54154\n",
    "# 比Pytorch慢 1.95793倍"
   ]
  },
  {
   "cell_type": "code",
   "execution_count": 7,
   "metadata": {},
   "outputs": [],
   "source": [
    "# 有OpenMP\n",
    "# mlearn -> 8.57620\n",
    "# torch  -> 5.01696\n",
    "# 比Pytorch慢 1.70944倍"
   ]
  },
  {
   "cell_type": "code",
   "execution_count": 8,
   "metadata": {},
   "outputs": [],
   "source": [
    "# mlearn -> 5.21169\n",
    "# torch  -> 2.23837\n",
    "# 比Pytorch慢 2.32834倍"
   ]
  }
 ],
 "metadata": {
  "file_extension": ".py",
  "kernelspec": {
   "display_name": "Python 3",
   "language": "python",
   "name": "python3"
  },
  "language_info": {
   "codemirror_mode": {
    "name": "ipython",
    "version": 3
   },
   "file_extension": ".py",
   "mimetype": "text/x-python",
   "name": "python",
   "nbconvert_exporter": "python",
   "pygments_lexer": "ipython3",
   "version": "3.7.5"
  },
  "mimetype": "text/x-python",
  "name": "python",
  "npconvert_exporter": "python",
  "pygments_lexer": "ipython3",
  "version": 3
 },
 "nbformat": 4,
 "nbformat_minor": 4
}

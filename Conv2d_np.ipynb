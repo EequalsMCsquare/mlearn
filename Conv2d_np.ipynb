{
 "cells": [
  {
   "cell_type": "markdown",
   "metadata": {},
   "source": [
    "# Performance Test"
   ]
  },
  {
   "cell_type": "code",
   "execution_count": 10,
   "metadata": {},
   "outputs": [],
   "source": [
    "import numpy as np\n",
    "import matplotlib.pyplot as plt\n",
    "import mlearn.functional as F\n",
    "import mlearn as mlearn\n",
    "import time\n",
    "import torch\n",
    "from time import time,sleep\n",
    "import sys\n",
    "from ctypes import POINTER, c_double\n",
    "import numba as nb"
   ]
  },
  {
   "cell_type": "code",
   "execution_count": null,
   "metadata": {},
   "outputs": [],
   "source": [
    "np.alm"
   ]
  },
  {
   "cell_type": "code",
   "execution_count": 6,
   "metadata": {},
   "outputs": [],
   "source": [
    "EPOCHS = 500\n",
    "_inputs = np.random.randn(EPOCHS,32,3,60,60)\n",
    "_weights = np.random.randn(8,3,5,5)\n",
    "_bias = np.ones((8))"
   ]
  },
  {
   "cell_type": "code",
   "execution_count": 7,
   "metadata": {},
   "outputs": [
    {
     "name": "stdout",
     "output_type": "stream",
     "text": [
      "Tensor([ 13.1403,  -1.2851, -16.8505,   0.3069,   3.5529,  14.4207,  -7.3221,\n",
      "         -2.3628, -13.9568,   8.6723,  -4.2092,   3.9530,   9.4635,   3.8056,\n",
      "         -2.9342,   2.1141, -14.1185,   0.4411,  11.8546,   8.2119,   4.0623,\n",
      "          0.3430,  -8.3539,  -2.5285,  -3.5344,  -0.1521,   4.8973,  -3.9817,\n",
      "         -6.5768,  -5.3407,   1.0095,  12.0107,  -1.5228,  -1.7275,   2.9341,\n",
      "          1.4284, -22.0420,  -6.5463,   7.3869,  -0.3562,  -2.5182,   3.8851,\n",
      "          2.2878,  -5.3851,   0.9146,  -6.0297,  -4.9152,  12.2545,   0.7470,\n",
      "         -5.1284,   7.4642,   5.0070,   1.9375,   2.0589,  14.3848,   7.4336])\n"
     ]
    }
   ],
   "source": [
    "# 3.15\n",
    "# 4.29\n",
    "inputs = mlearn.tensor(_inputs)\n",
    "weights = mlearn.tensor(_weights)\n",
    "bias = mlearn.tensor(_bias)\n",
    "sleep(0.5)\n",
    "start = time()\n",
    "for e,batch in enumerate(inputs):\n",
    "    c_out = F.conv_2d(batch,weights,bias,stride=1)\n",
    "#     print(f\"\\r{e+1}/{EPOCHS}\",end=\"\")\n",
    "#     sys.stdout.flush()\n",
    "# print()\n",
    "mlearn_conv = (time() - start)\n",
    "# ptr = (c_double*24*24*8).from_address(int(c_out[0].data))\n",
    "# c_out = np.ctypeslib.as_array(ptr)\n",
    "print(c_out[0,0,0])"
   ]
  },
  {
   "cell_type": "code",
   "execution_count": 8,
   "metadata": {},
   "outputs": [
    {
     "name": "stdout",
     "output_type": "stream",
     "text": [
      "tensor([ 13.1403,  -1.2851, -16.8505,   0.3069,   3.5529,  14.4207,  -7.3221,\n",
      "         -2.3628, -13.9568,   8.6723,  -4.2092,   3.9530,   9.4635,   3.8056,\n",
      "         -2.9342,   2.1141, -14.1185,   0.4411,  11.8546,   8.2119,   4.0623,\n",
      "          0.3430,  -8.3539,  -2.5285,  -3.5344,  -0.1521,   4.8973,  -3.9817,\n",
      "         -6.5768,  -5.3407,   1.0095,  12.0107,  -1.5228,  -1.7275,   2.9341,\n",
      "          1.4284, -22.0420,  -6.5463,   7.3869,  -0.3562,  -2.5182,   3.8851,\n",
      "          2.2878,  -5.3851,   0.9146,  -6.0297,  -4.9152,  12.2545,   0.7470,\n",
      "         -5.1284,   7.4642,   5.0070,   1.9375,   2.0589,  14.3848,   7.4336],\n",
      "       dtype=torch.float64)\n"
     ]
    }
   ],
   "source": [
    "inputs = torch.tensor(_inputs)\n",
    "w = torch.tensor(_weights)\n",
    "b = torch.tensor(_bias)\n",
    "start = time()\n",
    "# for e,batch in enumerate(inputs):\n",
    "for e,batch in enumerate(inputs):\n",
    "    out = torch.nn.functional.conv2d(batch.double(),w.double(),b.double())\n",
    "#     print(f\"\\r{e+1}/{EPOCHS}\",end=\"\")\n",
    "#     sys.stdout.flush()\n",
    "# print()\n",
    "torch_conv = (time() - start)\n",
    "print(out[0,0,0])"
   ]
  },
  {
   "cell_type": "code",
   "execution_count": 16,
   "metadata": {},
   "outputs": [
    {
     "data": {
      "text/plain": [
       "torch.Size([32, 8, 56, 56])"
      ]
     },
     "execution_count": 16,
     "metadata": {},
     "output_type": "execute_result"
    }
   ],
   "source": [
    "out.numpy()"
   ]
  },
  {
   "cell_type": "code",
   "execution_count": 24,
   "metadata": {},
   "outputs": [],
   "source": [
    "np.testing.assert_almost_equal(c_out.data,out.numpy(),13)"
   ]
  },
  {
   "cell_type": "code",
   "execution_count": 9,
   "metadata": {},
   "outputs": [
    {
     "name": "stdout",
     "output_type": "stream",
     "text": [
      "mlearn -> 5.69763\n",
      "torch  -> 3.91123\n",
      "比Pytorch慢 1.45674倍\n"
     ]
    }
   ],
   "source": [
    "print(\"mlearn -> %.5f\"%mlearn_conv)\n",
    "print(\"torch  -> %.5f\"%torch_conv)\n",
    "print(\"比Pytorch慢 %.5f倍\"%(mlearn_conv/torch_conv))"
   ]
  },
  {
   "cell_type": "code",
   "execution_count": 6,
   "metadata": {},
   "outputs": [],
   "source": [
    "# 深拷貝\n",
    "# mlearn -> 5.45433\n",
    "# mlearn -> 5.39917\n",
    "# mlearn -> 5.45366\n",
    "# mlearn -> 5.47441\n",
    "# mlearn -> 5.48211"
   ]
  },
  {
   "cell_type": "code",
   "execution_count": 7,
   "metadata": {},
   "outputs": [],
   "source": [
    "#淺拷貝\n",
    "# 比Pytorch慢 1.28447倍\n",
    "# 比Pytorch慢 1.28036倍\n",
    "# 比Pytorch慢 1.27179倍"
   ]
  },
  {
   "cell_type": "code",
   "execution_count": 8,
   "metadata": {},
   "outputs": [],
   "source": [
    "# np.copy()\n",
    "# 比Pytorch慢 1.27407倍\n",
    "# 比Pytorch慢 1.29730倍\n",
    "# 比Pytorch慢 1.22668倍"
   ]
  }
 ],
 "metadata": {
  "file_extension": ".py",
  "kernelspec": {
   "display_name": "Python 3",
   "language": "python",
   "name": "python3"
  },
  "language_info": {
   "codemirror_mode": {
    "name": "ipython",
    "version": 3
   },
   "file_extension": ".py",
   "mimetype": "text/x-python",
   "name": "python",
   "nbconvert_exporter": "python",
   "pygments_lexer": "ipython3",
   "version": "3.7.5"
  },
  "mimetype": "text/x-python",
  "name": "python",
  "npconvert_exporter": "python",
  "pygments_lexer": "ipython3",
  "version": 3
 },
 "nbformat": 4,
 "nbformat_minor": 4
}

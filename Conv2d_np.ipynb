{
 "cells": [
  {
   "cell_type": "markdown",
   "metadata": {},
   "source": [
    "# Conv_2D"
   ]
  },
  {
   "cell_type": "code",
   "execution_count": 1,
   "metadata": {},
   "outputs": [],
   "source": [
    "import numpy as np\n",
    "import matplotlib.pyplot as plt\n",
    "import mlearn_cpu.functional as F\n",
    "import mlearn_cpu as mlearn\n",
    "import time\n",
    "import torch\n",
    "from time import time\n",
    "import sys"
   ]
  },
  {
   "cell_type": "code",
   "execution_count": 2,
   "metadata": {},
   "outputs": [],
   "source": [
    "_inputs = np.random.randn(32,3,128,128)\n",
    "_w = np.random.randn(2,3,5,5)\n",
    "_b = np.ones((2))\n",
    "EPOCHS = 10"
   ]
  },
  {
   "cell_type": "code",
   "execution_count": 3,
   "metadata": {},
   "outputs": [
    {
     "name": "stdout",
     "output_type": "stream",
     "text": [
      "10/10"
     ]
    }
   ],
   "source": [
    "start = time()\n",
    "for e in range(EPOCHS):\n",
    "    out = F.conv_2d(_inputs,_w,_b,stride=2)\n",
    "    print(f\"\\r{e+1}/{EPOCHS}\",end=\"\")\n",
    "    sys.stdout.flush()\n",
    "mlearn_conv = (time() - start)"
   ]
  },
  {
   "cell_type": "code",
   "execution_count": 4,
   "metadata": {},
   "outputs": [
    {
     "name": "stdout",
     "output_type": "stream",
     "text": [
      "10/10"
     ]
    }
   ],
   "source": [
    "inputs = torch.tensor(_inputs)\n",
    "w = torch.tensor(_w)\n",
    "b = torch.ones(2)\n",
    "start = time()\n",
    "for e in range(EPOCHS):\n",
    "    torch.nn.functional.conv2d(inputs,w,b.double(),2)\n",
    "    print(f\"\\r{e+1}/{EPOCHS}\",end=\"\")\n",
    "    sys.stdout.flush()\n",
    "torch_conv = (time() - start)"
   ]
  },
  {
   "cell_type": "code",
   "execution_count": 5,
   "metadata": {},
   "outputs": [
    {
     "name": "stdout",
     "output_type": "stream",
     "text": [
      "mlearn -> 7.33051\n",
      "torch -> 0.12432\n",
      "比Pytorch慢 58.96586倍\n"
     ]
    }
   ],
   "source": [
    "print(\"mlearn -> %.5f\"%mlearn_conv)\n",
    "print(\"torch -> %.5f\"%torch_conv)\n",
    "print(\"比Pytorch慢 %.5f倍\"%(mlearn_conv/torch_conv))"
   ]
  },
  {
   "cell_type": "code",
   "execution_count": 9,
   "metadata": {},
   "outputs": [],
   "source": [
    "nb.jit(nopython=True)\n",
    "def conv_2d(inputs, weights,\n",
    "              bias = None, stride: int = 1, padding: int = 0):\n",
    "\n",
    "    out_x = (inputs.shape[2] - weights.shape[2] + 2 * padding) // stride + 1\n",
    "    out_y = (inputs.shape[3] - weights.shape[3] + 2 * padding) // stride + 1\n",
    "\n",
    "    if bias is None:\n",
    "        bias = ones(weights.shape[0], 1, 1)\n",
    "    else:\n",
    "        if bias.shape[0] == weights.shape[0] and len(bias.shape) == 1:\n",
    "            bias = bias.reshape(2, 1, 1)\n",
    "        elif bias.shape == (weights.shape[0],1,1):\n",
    "            pass\n",
    "\n",
    "    view_shape = (1, out_x, out_y,\n",
    "                  weights.shape[1], weights.shape[2], weights.shape[3])\n",
    "    batch_result = []\n",
    "    for sample in inputs:\n",
    "        arr = np.lib.stride_tricks.as_strided(\n",
    "            sample, view_shape, sample.strides*2).reshape(view_shape[1:])\n",
    "        sample_result = []\n",
    "        for out_dim in weights:\n",
    "            single_channel_conv = []\n",
    "            for row in arr:\n",
    "                for col in row:\n",
    "                    single_channel_conv.append((col * out_dim).sum())\n",
    "            sample_result.append(\n",
    "                np.array(single_channel_conv).reshape(out_x, out_y))\n",
    "        sample_result = np.array(sample_result) + bias\n",
    "        batch_result.append(sample_result)\n",
    "    data = np.array(batch_result)"
   ]
  },
  {
   "cell_type": "code",
   "execution_count": null,
   "metadata": {},
   "outputs": [],
   "source": []
  }
 ],
 "metadata": {
  "file_extension": ".py",
  "kernelspec": {
   "display_name": "Python 3",
   "language": "python",
   "name": "python3"
  },
  "language_info": {
   "codemirror_mode": {
    "name": "ipython",
    "version": 3
   },
   "file_extension": ".py",
   "mimetype": "text/x-python",
   "name": "python",
   "nbconvert_exporter": "python",
   "pygments_lexer": "ipython3",
   "version": "3.8.0"
  },
  "mimetype": "text/x-python",
  "name": "python",
  "npconvert_exporter": "python",
  "pygments_lexer": "ipython3",
  "version": 3
 },
 "nbformat": 4,
 "nbformat_minor": 4
}

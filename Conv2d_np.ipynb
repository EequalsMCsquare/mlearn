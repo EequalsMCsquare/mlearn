{
 "cells": [
  {
   "cell_type": "markdown",
   "metadata": {},
   "source": [
    "# Performance Test"
   ]
  },
  {
   "cell_type": "code",
   "execution_count": 1,
   "metadata": {},
   "outputs": [],
   "source": [
    "import numpy as np\n",
    "import matplotlib.pyplot as plt\n",
    "import mlearn.functional as F\n",
    "import mlearn as mlearn\n",
    "import time\n",
    "import torch\n",
    "from time import time,sleep\n",
    "import sys\n",
    "from ctypes import POINTER, c_double"
   ]
  },
  {
   "cell_type": "code",
   "execution_count": 2,
   "metadata": {},
   "outputs": [],
   "source": [
    "EPOCHS = 500\n",
    "_inputs = np.random.randn(EPOCHS,32,3,60,60).astype(np.float32)\n",
    "_weights = np.random.randn(8,3,5,5).astype(np.float32)\n",
    "_bias = np.ones((8))"
   ]
  },
  {
   "cell_type": "code",
   "execution_count": 3,
   "metadata": {},
   "outputs": [
    {
     "name": "stdout",
     "output_type": "stream",
     "text": [
      "Tensor([ -2.9267,  -4.6045,  -8.6271,   4.2821,  15.7603,  -3.6735,   1.5177,\n",
      "          1.0881,  -0.3076, -16.1252,  -2.9804,   5.1928,  -0.9182,  13.7294,\n",
      "         -2.2975,   9.8902,  15.4116,   4.7755,   2.6212,  -5.7156,   9.8950,\n",
      "          5.1977, -22.7628,  -0.3043, -12.9928,   8.4256,   8.6344,   6.8093,\n",
      "          9.8458,   0.6817,  -9.6475,  -5.7958,   2.3418, -22.6587,   9.1244,\n",
      "          1.6513,   4.4801, -11.8526,   6.9397,  -4.8690,   9.0941,  -6.0844,\n",
      "          9.8791,   9.9535,   5.6052,  13.8098, -16.5667,  -0.0681, -10.5325,\n",
      "          5.2417,   7.5185,  -5.3567,  -3.6967,   1.8836,   6.6985,   1.3230])\n"
     ]
    }
   ],
   "source": [
    "# 3.15\n",
    "# 4.29\n",
    "inputs = mlearn.tensor(_inputs)\n",
    "weights = mlearn.tensor(_weights)\n",
    "bias = mlearn.tensor(_bias)\n",
    "sleep(0.5)\n",
    "start = time()\n",
    "for e,batch in enumerate(inputs):\n",
    "    c_out = F.conv_2d(batch,weights,bias,stride=1)\n",
    "#     print(f\"\\r{e+1}/{EPOCHS}\",end=\"\")\n",
    "#     sys.stdout.flush()\n",
    "# print()\n",
    "mlearn_conv = (time() - start)\n",
    "# ptr = (c_double*24*24*8).from_address(int(c_out[0].data))\n",
    "# c_out = np.ctypeslib.as_array(ptr)\n",
    "print(c_out[0,0,0])"
   ]
  },
  {
   "cell_type": "code",
   "execution_count": 4,
   "metadata": {},
   "outputs": [
    {
     "name": "stdout",
     "output_type": "stream",
     "text": [
      "tensor([ -2.9267,  -4.6045,  -8.6271,   4.2821,  15.7603,  -3.6735,   1.5177,\n",
      "          1.0881,  -0.3076, -16.1252,  -2.9804,   5.1928,  -0.9182,  13.7294,\n",
      "         -2.2975,   9.8902,  15.4116,   4.7755,   2.6212,  -5.7156,   9.8950,\n",
      "          5.1977, -22.7628,  -0.3043, -12.9928,   8.4256,   8.6344,   6.8093,\n",
      "          9.8458,   0.6817,  -9.6475,  -5.7958,   2.3418, -22.6587,   9.1244,\n",
      "          1.6513,   4.4801, -11.8526,   6.9397,  -4.8690,   9.0941,  -6.0844,\n",
      "          9.8791,   9.9535,   5.6052,  13.8098, -16.5667,  -0.0681, -10.5325,\n",
      "          5.2417,   7.5185,  -5.3567,  -3.6967,   1.8836,   6.6985,   1.3230],\n",
      "       dtype=torch.float64)\n"
     ]
    }
   ],
   "source": [
    "inputs = torch.tensor(_inputs)\n",
    "w = torch.tensor(_weights)\n",
    "b = torch.tensor(_bias)\n",
    "start = time()\n",
    "# for e,batch in enumerate(inputs):\n",
    "for e,batch in enumerate(inputs):\n",
    "    out = torch.nn.functional.conv2d(batch.double(),w.double(),b.double())\n",
    "#     print(f\"\\r{e+1}/{EPOCHS}\",end=\"\")\n",
    "#     sys.stdout.flush()\n",
    "# print()\n",
    "torch_conv = (time() - start)\n",
    "print(out[0,0,0])"
   ]
  },
  {
   "cell_type": "code",
   "execution_count": 5,
   "metadata": {},
   "outputs": [
    {
     "name": "stdout",
     "output_type": "stream",
     "text": [
      "mlearn -> 4.83557\n",
      "torch  -> 3.79518\n",
      "比Pytorch慢 1.27413倍\n"
     ]
    }
   ],
   "source": [
    "print(\"mlearn -> %.5f\"%mlearn_conv)\n",
    "print(\"torch  -> %.5f\"%torch_conv)\n",
    "print(\"比Pytorch慢 %.5f倍\"%(mlearn_conv/torch_conv))"
   ]
  },
  {
   "cell_type": "code",
   "execution_count": 6,
   "metadata": {},
   "outputs": [],
   "source": [
    "# 深拷貝\n",
    "# mlearn -> 5.45433\n",
    "# mlearn -> 5.39917\n",
    "# mlearn -> 5.45366\n",
    "# mlearn -> 5.47441\n",
    "# mlearn -> 5.48211"
   ]
  },
  {
   "cell_type": "code",
   "execution_count": 7,
   "metadata": {},
   "outputs": [],
   "source": [
    "#淺拷貝\n",
    "# 比Pytorch慢 1.28447倍\n",
    "# 比Pytorch慢 1.28036倍\n",
    "# 比Pytorch慢 1.27179倍"
   ]
  },
  {
   "cell_type": "code",
   "execution_count": 8,
   "metadata": {},
   "outputs": [],
   "source": [
    "# np.copy()\n",
    "# 比Pytorch慢 1.27407倍\n",
    "# 比Pytorch慢 1.29730倍\n",
    "# 比Pytorch慢 1.22668倍"
   ]
  }
 ],
 "metadata": {
  "file_extension": ".py",
  "kernelspec": {
   "display_name": "Python 3",
   "language": "python",
   "name": "python3"
  },
  "language_info": {
   "codemirror_mode": {
    "name": "ipython",
    "version": 3
   },
   "file_extension": ".py",
   "mimetype": "text/x-python",
   "name": "python",
   "nbconvert_exporter": "python",
   "pygments_lexer": "ipython3",
   "version": "3.7.5"
  },
  "mimetype": "text/x-python",
  "name": "python",
  "npconvert_exporter": "python",
  "pygments_lexer": "ipython3",
  "version": 3
 },
 "nbformat": 4,
 "nbformat_minor": 4
}

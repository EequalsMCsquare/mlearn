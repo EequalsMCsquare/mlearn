{
 "cells": [
  {
   "cell_type": "markdown",
   "metadata": {},
   "source": [
    "# Performance Test"
   ]
  },
  {
   "cell_type": "code",
   "execution_count": 1,
   "metadata": {},
   "outputs": [
    {
     "name": "stdout",
     "output_type": "stream",
     "text": [
      "1.17.4\n"
     ]
    }
   ],
   "source": [
    "import numpy as np\n",
    "import matplotlib.pyplot as plt\n",
    "import mlearn.functional as F\n",
    "import mlearn as mlearn\n",
    "import time\n",
    "import torch\n",
    "from time import time,sleep\n",
    "import sys\n",
    "from ctypes import POINTER, c_double\n",
    "import numba as nb\n",
    "np.set_printoptions(4)\n",
    "torch.set_printoptions(4)\n",
    "print(np.__version__)"
   ]
  },
  {
   "cell_type": "code",
   "execution_count": 6,
   "metadata": {},
   "outputs": [],
   "source": [
    "EPOCHS = 10\n",
    "_inputs = np.random.randn(EPOCHS,32,3,32,32)\n",
    "_weights = np.random.randn(8,3,5,5)\n",
    "_bias = np.ones((8))\n",
    "padding = 3\n",
    "stride = 2"
   ]
  },
  {
   "cell_type": "code",
   "execution_count": 7,
   "metadata": {},
   "outputs": [],
   "source": [
    "# 3.15\n",
    "# 4.29\n",
    "inputs = mlearn.tensor(_inputs)\n",
    "weights = mlearn.tensor(_weights)\n",
    "bias = mlearn.tensor(_bias)\n",
    "start = time()\n",
    "for e,batch in enumerate(inputs):\n",
    "    c_out = F.conv_2d(batch,weights,bias,stride,padding)\n",
    "#     print(f\"\\r{e+1}/{EPOCHS}\",end=\"\")\n",
    "#     sys.stdout.flush()\n",
    "# print()\n",
    "mlearn_conv = (time() - start)\n",
    "# ptr = (c_double*24*24*8).from_address(int(c_out[0].data))\n",
    "# c_out = np.ctypeslib.as_array(ptr)"
   ]
  },
  {
   "cell_type": "code",
   "execution_count": 8,
   "metadata": {},
   "outputs": [],
   "source": [
    "inputs = torch.tensor(_inputs)\n",
    "\n",
    "w = torch.tensor(_weights)\n",
    "b = torch.tensor(_bias)\n",
    "start = time()\n",
    "for e,batch in enumerate(inputs):\n",
    "    out = torch.nn.functional.conv2d(batch,w,b,stride,padding)\n",
    "#     print(f\"\\r{e+1}/{EPOCHS}\",end=\"\")\n",
    "#     sys.stdout.flush()\n",
    "# print()\n",
    "torch_conv = (time() - start)"
   ]
  },
  {
   "cell_type": "code",
   "execution_count": 9,
   "metadata": {},
   "outputs": [
    {
     "name": "stdout",
     "output_type": "stream",
     "text": [
      "mlearn -> 0.04229\n",
      "torch  -> 0.00628\n",
      "比Pytorch慢 6.73066倍\n"
     ]
    }
   ],
   "source": [
    "print(\"mlearn -> %.5f\"%mlearn_conv)\n",
    "print(\"torch  -> %.5f\"%torch_conv)\n",
    "print(\"比Pytorch慢 %.5f倍\"%(mlearn_conv/torch_conv))\n",
    "np.testing.assert_almost_equal(c_out.data,out.numpy(),5) # check if result is the same"
   ]
  },
  {
   "cell_type": "code",
   "execution_count": 43,
   "metadata": {},
   "outputs": [
    {
     "name": "stdout",
     "output_type": "stream",
     "text": [
      "(200, 40, 8)\n"
     ]
    }
   ],
   "source": [
    "a = np.arange(25).reshape(1,5,5)\n",
    "stride = 1\n",
    "padding = 0\n",
    "print(a.strides)\n",
    "weight_shape = (1,2,2)\n",
    "\n",
    "out_x = (5-2)//1+1\n",
    "out_y = (5-2)//1+1"
   ]
  },
  {
   "cell_type": "code",
   "execution_count": 44,
   "metadata": {},
   "outputs": [
    {
     "data": {
      "text/plain": [
       "array([[[ 0,  1,  2,  3,  4],\n",
       "        [ 5,  6,  7,  8,  9],\n",
       "        [10, 11, 12, 13, 14],\n",
       "        [15, 16, 17, 18, 19],\n",
       "        [20, 21, 22, 23, 24]]])"
      ]
     },
     "execution_count": 44,
     "metadata": {},
     "output_type": "execute_result"
    }
   ],
   "source": [
    "a"
   ]
  },
  {
   "cell_type": "code",
   "execution_count": 45,
   "metadata": {},
   "outputs": [],
   "source": [
    "arr = np.lib.stride_tricks.as_strided(\n",
    "    a,\n",
    "    shape = (1,out_x,out_y,1,2,2),\n",
    "    strides=a.strides*2\n",
    ")"
   ]
  },
  {
   "cell_type": "code",
   "execution_count": 24,
   "metadata": {},
   "outputs": [
    {
     "data": {
      "text/plain": [
       "(1, 4, 4, 1, 2, 2)"
      ]
     },
     "execution_count": 24,
     "metadata": {},
     "output_type": "execute_result"
    }
   ],
   "source": [
    "arr.shape"
   ]
  },
  {
   "cell_type": "code",
   "execution_count": 25,
   "metadata": {},
   "outputs": [
    {
     "data": {
      "text/plain": [
       "array([[[[[[ 0,  1],\n",
       "           [ 5,  6]]],\n",
       "\n",
       "\n",
       "         [[[ 2,  3],\n",
       "           [ 7,  8]]]],\n",
       "\n",
       "\n",
       "\n",
       "        [[[[10, 11],\n",
       "           [15, 16]]],\n",
       "\n",
       "\n",
       "         [[[12, 13],\n",
       "           [17, 18]]]]]])"
      ]
     },
     "execution_count": 25,
     "metadata": {},
     "output_type": "execute_result"
    }
   ],
   "source": [
    "arr[:,0:4:2,0:4:2]"
   ]
  },
  {
   "cell_type": "code",
   "execution_count": null,
   "metadata": {},
   "outputs": [],
   "source": []
  }
 ],
 "metadata": {
  "file_extension": ".py",
  "kernelspec": {
   "display_name": "Python 3",
   "language": "python",
   "name": "python3"
  },
  "language_info": {
   "codemirror_mode": {
    "name": "ipython",
    "version": 3
   },
   "file_extension": ".py",
   "mimetype": "text/x-python",
   "name": "python",
   "nbconvert_exporter": "python",
   "pygments_lexer": "ipython3",
   "version": "3.7.5"
  },
  "mimetype": "text/x-python",
  "name": "python",
  "npconvert_exporter": "python",
  "pygments_lexer": "ipython3",
  "version": 3
 },
 "nbformat": 4,
 "nbformat_minor": 4
}

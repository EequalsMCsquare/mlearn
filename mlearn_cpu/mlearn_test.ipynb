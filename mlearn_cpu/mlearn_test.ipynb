{
 "cells": [
  {
   "cell_type": "markdown",
   "metadata": {},
   "source": [
    "# 把这文件放在和mlearn/同一层文件夹运行\n",
    "## 不然import会报错"
   ]
  },
  {
   "cell_type": "code",
   "execution_count": 1,
   "metadata": {},
   "outputs": [],
   "source": [
    "import mlearn\n",
    "from mlearn import functional as F\n",
    "from mlearn import layers\n",
    "from mlearn.optimizers import SGD, RMSProp\n",
    "from torchvision import datasets,transforms\n",
    "import torch\n",
    "import numpy as np\n",
    "import matplotlib.pyplot as plt\n",
    "from mlearn import DataLoader"
   ]
  },
  {
   "cell_type": "markdown",
   "metadata": {},
   "source": [
    "# 加载数据集"
   ]
  },
  {
   "cell_type": "code",
   "execution_count": 2,
   "metadata": {},
   "outputs": [],
   "source": [
    "train = datasets.MNIST(\"\", train=True, download=True,\n",
    "                      transform = transforms.Compose([transforms.ToTensor()]))\n",
    "\n",
    "test = datasets.MNIST(\"\", train=False, download=True,\n",
    "                     transform = transforms.Compose([transforms.ToTensor()]))\n",
    "\n",
    "dataset = DataLoader((train.data,train.targets),batch_size=32,shuffle=True)\n",
    "\n",
    "\n",
    "_trainset = torch.utils.data.DataLoader(train,batch_size=32, shuffle=True)\n",
    "_testset = torch.utils.data.DataLoader(test, batch_size=32, shuffle=True)\n",
    "\n",
    "trainset = []\n",
    "testset = []\n",
    "for batch in _trainset:\n",
    "     trainset.append((batch[0].detach().numpy(),batch[1].detach().numpy()))\n",
    "for batch in _testset:\n",
    "     testset.append((batch[0].detach().numpy(),batch[1].detach().numpy()))"
   ]
  },
  {
   "cell_type": "code",
   "execution_count": 3,
   "metadata": {},
   "outputs": [],
   "source": [
    "class Net(mlearn.Module):\n",
    "    def __init__(self):\n",
    "        self.dense1 = layers.Dense(784,300)\n",
    "        self.dense2 = layers.Dense(300,100)\n",
    "        self.dense3 = layers.Dense(100,10)\n",
    "        \n",
    "    def forward(self, inputs):\n",
    "        o = self.dense1(inputs)\n",
    "        o = F.relu(o)\n",
    "        o = self.dense2(o)\n",
    "        o = F.tanh(o)\n",
    "        o = self.dense3(o)\n",
    "        return (o)\n",
    "    \n",
    "net = Net()\n"
   ]
  },
  {
   "cell_type": "code",
   "execution_count": 4,
   "metadata": {},
   "outputs": [
    {
     "name": "stdout",
     "output_type": "stream",
     "text": [
      "[1,   300] loss: 0.767 \t\n",
      "[1,   600] loss: 0.388 \t\n",
      "[1,   900] loss: 0.325 \t\n",
      "[1,  1200] loss: 0.294 \t\n",
      "[1,  1500] loss: 0.270 \t\n",
      "[1,  1800] loss: 0.235 \t\n",
      "[2,   300] loss: 0.235 \t\n",
      "[2,   600] loss: 0.217 \t\n",
      "[2,   900] loss: 0.208 \t\n",
      "[2,  1200] loss: 0.201 \t\n",
      "[2,  1500] loss: 0.194 \t\n",
      "[2,  1800] loss: 0.171 \t\n",
      "[3,   300] loss: 0.179 \t\n",
      "[3,   600] loss: 0.169 \t\n",
      "[3,   900] loss: 0.164 \t\n",
      "[3,  1200] loss: 0.160 \t\n",
      "[3,  1500] loss: 0.157 \t\n",
      "[3,  1800] loss: 0.139 \t\n",
      "[4,   300] loss: 0.148 \t\n",
      "[4,   600] loss: 0.140 \t\n",
      "[4,   900] loss: 0.137 \t\n",
      "[4,  1200] loss: 0.135 \t\n",
      "[4,  1500] loss: 0.133 \t\n",
      "[4,  1800] loss: 0.118 \t\n",
      "[5,   300] loss: 0.127 \t\n",
      "[5,   600] loss: 0.120 \t\n",
      "[5,   900] loss: 0.118 \t\n",
      "[5,  1200] loss: 0.117 \t\n",
      "[5,  1500] loss: 0.115 \t\n",
      "[5,  1800] loss: 0.102 \t\n",
      "[6,   300] loss: 0.112 \t\n",
      "[6,   600] loss: 0.105 \t\n",
      "[6,   900] loss: 0.103 \t\n",
      "[6,  1200] loss: 0.103 \t\n",
      "[6,  1500] loss: 0.102 \t\n",
      "[6,  1800] loss: 0.090 \t\n",
      "[7,   300] loss: 0.100 \t\n",
      "[7,   600] loss: 0.093 \t\n",
      "[7,   900] loss: 0.092 \t\n",
      "[7,  1200] loss: 0.092 \t\n",
      "[7,  1500] loss: 0.091 \t\n",
      "[7,  1800] loss: 0.081 \t\n",
      "[8,   300] loss: 0.090 \t\n",
      "[8,   600] loss: 0.084 \t\n",
      "[8,   900] loss: 0.083 \t\n",
      "[8,  1200] loss: 0.083 \t\n",
      "[8,  1500] loss: 0.082 \t\n",
      "[8,  1800] loss: 0.073 \t\n",
      "[9,   300] loss: 0.082 \t\n",
      "[9,   600] loss: 0.075 \t\n",
      "[9,   900] loss: 0.075 \t\n",
      "[9,  1200] loss: 0.076 \t\n",
      "[9,  1500] loss: 0.074 \t\n",
      "[9,  1800] loss: 0.066 \t\n",
      "[10,   300] loss: 0.075 \t\n",
      "[10,   600] loss: 0.069 \t\n",
      "[10,   900] loss: 0.068 \t\n",
      "[10,  1200] loss: 0.069 \t\n",
      "[10,  1500] loss: 0.068 \t\n",
      "[10,  1800] loss: 0.060 \t\n",
      "trainning completed!\n"
     ]
    }
   ],
   "source": [
    "hist = []\n",
    "net = Net()\n",
    "optimizer = SGD(net,0.01)\n",
    "EPOCHS = 10\n",
    "net.zero_grad()\n",
    "for epoch in range(EPOCHS):\n",
    "    running_loss = 0.0\n",
    "    for i, batch in enumerate(trainset, 0):\n",
    "        features, labels = batch\n",
    "        features = mlearn.tensor(features.reshape(-1,784),requires_grad=True)\n",
    "        labels = mlearn.tensor(labels)\n",
    "        net.zero_grad()\n",
    "        predict = net(features)\n",
    "        loss = F.cross_entropy(predict, labels)\n",
    "        loss.backward()\n",
    "        optimizer.step()\n",
    "\n",
    "        running_loss += loss.data\n",
    "        if i % 300 == 299:   \n",
    "            hist.append(running_loss/300)\n",
    "            print('[%d, %5d] loss: %.3f' %\n",
    "                  (epoch + 1, i + 1, running_loss / 300),\"\\t\")\n",
    "            running_loss = 0.0\n",
    "print('trainning completed!')\n"
   ]
  },
  {
   "cell_type": "code",
   "execution_count": 5,
   "metadata": {},
   "outputs": [
    {
     "name": "stdout",
     "output_type": "stream",
     "text": [
      "Accuracy 0.97165\n"
     ]
    }
   ],
   "source": [
    "correct = 0\n",
    "total = 0\n",
    "\n",
    "for batch in testset:\n",
    "    features, labels = batch\n",
    "    features = mlearn.tensor(features)\n",
    "    labels = mlearn.tensor(labels)\n",
    "    o = net(features.reshape(-1,784))\n",
    "    predict = []\n",
    "    for x in o.data:\n",
    "        predict.append(np.argmax(x))\n",
    "    predict = mlearn.tensor(predict)\n",
    "    for b in predict.data == labels.data:\n",
    "        if b:\n",
    "            correct += 1\n",
    "    total += 32\n",
    "print(\"Accuracy %.5f\"%(correct / total))"
   ]
  },
  {
   "cell_type": "code",
   "execution_count": 6,
   "metadata": {},
   "outputs": [
    {
     "data": {
      "text/plain": [
       "[<matplotlib.lines.Line2D at 0x7f29a67bdc10>]"
      ]
     },
     "execution_count": 6,
     "metadata": {},
     "output_type": "execute_result"
    },
    {
     "data": {
      "image/png": "[encoded data removed]",
      "text/plain": [
       "<Figure size 432x288 with 1 Axes>"
      ]
     },
     "metadata": {
      "needs_background": "light"
     },
     "output_type": "display_data"
    }
   ],
   "source": [
    "plt.plot(hist)"
   ]
  },
  {
   "cell_type": "code",
   "execution_count": null,
   "metadata": {},
   "outputs": [],
   "source": []
  }
 ],
 "metadata": {
  "kernelspec": {
   "display_name": "Python 3",
   "language": "python",
   "name": "python3"
  },
  "language_info": {
   "codemirror_mode": {
    "name": "ipython",
    "version": 3
   },
   "file_extension": ".py",
   "mimetype": "text/x-python",
   "name": "python",
   "nbconvert_exporter": "python",
   "pygments_lexer": "ipython3",
   "version": "3.7.5"
  }
 },
 "nbformat": 4,
 "nbformat_minor": 2
}

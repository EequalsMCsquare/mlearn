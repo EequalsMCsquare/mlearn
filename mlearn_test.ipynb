{
 "cells": [
  {
   "cell_type": "markdown",
   "metadata": {},
   "source": [
    "# 使用torchvision的数据集"
   ]
  },
  {
   "cell_type": "code",
   "execution_count": 5,
   "metadata": {},
   "outputs": [],
   "source": [
    "import mlearn as mlearn\n",
    "from mlearn import functional as F\n",
    "from mlearn import layers\n",
    "from mlearn.optimizers import SGD, RMSProp, Momentum\n",
    "from torchvision import datasets\n",
    "import numpy as np\n",
    "import matplotlib.pyplot as plt\n",
    "from mlearn.utils import DataLoader\n",
    "from mlearn.utils import pre_F as P\n",
    "import sys"
   ]
  },
  {
   "cell_type": "markdown",
   "metadata": {},
   "source": [
    "# 加载数据集"
   ]
  },
  {
   "cell_type": "code",
   "execution_count": 6,
   "metadata": {},
   "outputs": [],
   "source": [
    "train = datasets.MNIST(\"datasets\", train=True, download=True)\n",
    "\n",
    "test = datasets.MNIST(\"datasets\", train=False, download=True)\n",
    "\n",
    "pre = [P.normalize_MinMax]\n",
    "trainset = DataLoader((train.data,train.targets),batch_size=32,shuffle=True,\n",
    "                      preprocessing=pre)\n",
    "testset = DataLoader((test.data, test.targets), batch_size=32, shuffle=True,\n",
    "                    preprocessing=pre)"
   ]
  },
  {
   "cell_type": "code",
   "execution_count": 14,
   "metadata": {},
   "outputs": [],
   "source": [
    "class Net(mlearn.Module):\n",
    "    def __init__(self):\n",
    "        self.dense1 = layers.Dense(784,300)\n",
    "        self.dense2 = layers.Dense(300,150)\n",
    "        self.dense3 = layers.Dense(150,64)\n",
    "        self.dense4 = layers.Dense(64,10)\n",
    "        \n",
    "    def forward(self, inputs):\n",
    "        o = self.dense1(inputs)\n",
    "        o = F.relu(o)\n",
    "        o = self.dense2(o)\n",
    "        o = F.relu(o)\n",
    "        o = self.dense3(o)\n",
    "        o = F.relu(o)\n",
    "        o = self.dense4(o)\n",
    "        o = F.relu(o)\n",
    "        return o"
   ]
  },
  {
   "cell_type": "code",
   "execution_count": 15,
   "metadata": {},
   "outputs": [
    {
     "name": "stdout",
     "output_type": "stream",
     "text": [
      "1/10 Batch 1874/1874  [                    ] -> Loss 4.77254\n",
      "2/10 Batch 1874/1874  [                    ] -> Loss 1.981998\n",
      "3/10 Batch 1874/1874  [                    ] -> Loss 1.01716\n",
      "4/10 Batch 1874/1874  [                    ] -> Loss 1.02948\n",
      "5/10 Batch 1874/1874  [                    ] -> Loss 1.30456\n",
      "6/10 Batch 1874/1874  [                    ] -> Loss 0.88004\n",
      "7/10 Batch 1874/1874  [                    ] -> Loss 1.31684\n",
      "8/10 Batch 1874/1874  [                    ] -> Loss 0.25882\n",
      "9/10 Batch 1874/1874  [                    ] -> Loss 0.08546\n",
      "10/10 Batch 1874/1874  [                    ] -> Loss 0.42487\n"
     ]
    }
   ],
   "source": [
    "net = Net()\n",
    "def train():\n",
    "    hist = []\n",
    "    optimizer = RMSProp(net,0.001)\n",
    "    EPOCHS = 10\n",
    "    net.zero_grad()\n",
    "    for epoch in range(EPOCHS):\n",
    "        running_loss = 0.0\n",
    "        bar = \" \"*20\n",
    "        for i, batch in enumerate(trainset, 0):\n",
    "            features, labels = batch\n",
    "            net.zero_grad()\n",
    "            predict = net(features.reshape(-1,784))\n",
    "            loss = F.cross_entropy(predict, labels)\n",
    "            loss.backward()\n",
    "            optimizer.step()\n",
    "            running_loss += loss.data\n",
    "            print(f\"\\r{epoch+1}/{EPOCHS} Batch %-4d/1874  [{bar}] -> Loss %.5f\"%(i,loss.data), end=\"\")\n",
    "            sys.stdout.flush()\n",
    "        print()\n",
    "        hist.append(loss.data)\n",
    "    return np.array(hist)\n",
    "    print('trainning completed!')\n",
    "hist = train()"
   ]
  },
  {
   "cell_type": "code",
   "execution_count": 16,
   "metadata": {},
   "outputs": [
    {
     "name": "stdout",
     "output_type": "stream",
     "text": [
      "Accuracy 0.96745\n"
     ]
    }
   ],
   "source": [
    "correct = 0\n",
    "total = 0\n",
    "\n",
    "for batch in testset:\n",
    "    features, labels = batch\n",
    "    o = net(features.reshape(-1,784))\n",
    "    predict = []\n",
    "    for x in o.data:\n",
    "        predict.append(np.argmax(x))\n",
    "    for b in predict == labels.data:\n",
    "        if b:\n",
    "            correct += 1\n",
    "    total += 32\n",
    "print(\"Accuracy %.5f\"%(correct / total))"
   ]
  },
  {
   "cell_type": "code",
   "execution_count": 17,
   "metadata": {},
   "outputs": [
    {
     "data": {
      "image/png": "[encoded data removed]",
      "text/plain": [
       "<Figure size 432x288 with 1 Axes>"
      ]
     },
     "metadata": {
      "needs_background": "light"
     },
     "output_type": "display_data"
    }
   ],
   "source": [
    "plt.plot(hist)\n",
    "plt.show()"
   ]
  },
  {
   "cell_type": "code",
   "execution_count": null,
   "metadata": {},
   "outputs": [],
   "source": []
  }
 ],
 "metadata": {
  "kernelspec": {
   "display_name": "Python 3",
   "language": "python",
   "name": "python3"
  },
  "language_info": {
   "codemirror_mode": {
    "name": "ipython",
    "version": 3
   },
   "file_extension": ".py",
   "mimetype": "text/x-python",
   "name": "python",
   "nbconvert_exporter": "python",
   "pygments_lexer": "ipython3",
   "version": "3.7.5"
  }
 },
 "nbformat": 4,
 "nbformat_minor": 4
}

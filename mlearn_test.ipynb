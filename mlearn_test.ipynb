{
 "cells": [
  {
   "cell_type": "markdown",
   "metadata": {},
   "source": [
    "# 使用torchvision的數據集"
   ]
  },
  {
   "cell_type": "code",
   "execution_count": 1,
   "metadata": {},
   "outputs": [],
   "source": [
    "import mlearn as mlearn\n",
    "from mlearn import functional as F\n",
    "from mlearn import layers\n",
    "from mlearn.optimizers import SGD, RMSProp, Momentum\n",
    "from torchvision import datasets\n",
    "import numpy as np\n",
    "import matplotlib.pyplot as plt\n",
    "from mlearn.utils import DataLoader\n",
    "from mlearn.utils import pre_F as P\n",
    "import sys\n",
    "from time import time"
   ]
  },
  {
   "cell_type": "markdown",
   "metadata": {},
   "source": [
    "# 加載數據集"
   ]
  },
  {
   "cell_type": "code",
   "execution_count": 9,
   "metadata": {},
   "outputs": [],
   "source": [
    "train = datasets.FashionMNIST(\"datasets\", train=True, download=True)\n",
    "\n",
    "test = datasets.FashionMNIST(\"datasets\", train=False, download=True)\n",
    "\n",
    "pre = [P.normalize_MinMax]\n",
    "trainset = DataLoader((train.data,train.targets),batch_size=32,shuffle=True,\n",
    "                      preprocessing=pre)\n",
    "testset = DataLoader((test.data, test.targets), batch_size=32, shuffle=True,\n",
    "                    preprocessing=pre)"
   ]
  },
  {
   "cell_type": "code",
   "execution_count": 34,
   "metadata": {},
   "outputs": [],
   "source": [
    "class Net(mlearn.Module):\n",
    "    def __init__(self):\n",
    "        super(Net,self).__init__()\n",
    "        self.dense1 = layers.Dense(784,500)\n",
    "        self.dense2 = layers.Dense(500,250)\n",
    "        self.dense3 = layers.Dense(250,100)\n",
    "        self.dense4 = layers.Dense(100,50)\n",
    "        self.dense5 = layers.Dense(50,10)\n",
    "        \n",
    "    def forward(self, inputs):\n",
    "        o = self.dense1(inputs)\n",
    "        o = F.relu(o)\n",
    "        o = self.dense2(o)\n",
    "        o = F.relu(o)\n",
    "        o = self.dense3(o)\n",
    "        o = F.leaky_relu(o)\n",
    "        o = F.relu(self.dense4(o))\n",
    "        o = F.leaky_relu(self.dense5(o))\n",
    "        return o\n",
    "net = Net()\n"
   ]
  },
  {
   "cell_type": "code",
   "execution_count": 35,
   "metadata": {},
   "outputs": [
    {
     "name": "stdout",
     "output_type": "stream",
     "text": [
      "AVG Loss -> 1.98486\n",
      "AVG Loss -> 0.52665\n",
      "AVG Loss -> 0.42837\n",
      "AVG Loss -> 0.38822\n",
      "AVG Loss -> 0.36242\n",
      "AVG Loss -> 0.34410\n",
      "AVG Loss -> 0.32805\n",
      "AVG Loss -> 0.31511\n",
      "AVG Loss -> 0.30312\n",
      "AVG Loss -> 0.29235\n",
      "AVG Loss -> 0.28239\n",
      "AVG Loss -> 0.27305\n",
      "AVG Loss -> 0.26481\n",
      "AVG Loss -> 0.25658\n",
      "AVG Loss -> 0.24906\n",
      "AVG Loss -> 0.24145\n",
      "AVG Loss -> 0.23458\n",
      "AVG Loss -> 0.22794\n",
      "AVG Loss -> 0.22147\n",
      "AVG Loss -> 0.21497\n",
      "Finished in 219.08501768112183\n",
      "trainning completed!\n"
     ]
    }
   ],
   "source": [
    "def train():\n",
    "    hist = []\n",
    "    optimizer = Momentum(net,0.01)\n",
    "    EPOCHS = 20\n",
    "    start = time()\n",
    "    for epoch in range(EPOCHS):\n",
    "        running_loss = 0.0\n",
    "        bar = \" \"*20\n",
    "        for i, batch in enumerate(trainset, 0):\n",
    "            features, labels = batch\n",
    "            net.zero_grad()\n",
    "            predict = net(features.reshape(-1,784))\n",
    "            loss = F.cross_entropy(predict, labels)\n",
    "            loss.backward()\n",
    "            optimizer.step()\n",
    "            running_loss += loss.data\n",
    "            # 禁用 io可以提升一倍的訓練速度\n",
    "#             print(f\"\\r{epoch+1}/{EPOCHS} Batch %-4d/1874  [{bar}] -> AVG Loss %.5f\"%(i,running_loss/(i+1)), end=\"\")\n",
    "#             sys.stdout.flush()\n",
    "        print(\"AVG Loss -> %.5f\"%(running_loss/(i+1)))\n",
    "        hist.append(running_loss/(i+1))\n",
    "    print(f\"Finished in {time() - start}\")\n",
    "    print('trainning completed!')\n",
    "    return np.array(hist)\n",
    "hist = train()"
   ]
  },
  {
   "cell_type": "code",
   "execution_count": 37,
   "metadata": {},
   "outputs": [
    {
     "name": "stdout",
     "output_type": "stream",
     "text": [
      "Accuracy 0.87181\n"
     ]
    },
    {
     "data": {
      "image/png": "[encoded data removed]",
      "text/plain": [
       "<Figure size 432x288 with 1 Axes>"
      ]
     },
     "metadata": {
      "needs_background": "light"
     },
     "output_type": "display_data"
    }
   ],
   "source": [
    "correct = 0\n",
    "total = 0\n",
    "\n",
    "for batch in testset:\n",
    "    features, labels = batch\n",
    "    o = net(features.reshape(-1,784))\n",
    "    predict = []\n",
    "    for x in o.data:\n",
    "        predict.append(np.argmax(x))\n",
    "    for b in predict == labels.data:\n",
    "        if b:\n",
    "            correct += 1\n",
    "    total += 32\n",
    "print(\"Accuracy %.5f\"%(correct / total))\n",
    "\n",
    "plt.plot(hist)\n",
    "plt.show()"
   ]
  },
  {
   "cell_type": "code",
   "execution_count": null,
   "metadata": {},
   "outputs": [],
   "source": []
  }
 ],
 "metadata": {
  "kernelspec": {
   "display_name": "Python 3",
   "language": "python",
   "name": "python3"
  },
  "language_info": {
   "codemirror_mode": {
    "name": "ipython",
    "version": 3
   },
   "file_extension": ".py",
   "mimetype": "text/x-python",
   "name": "python",
   "nbconvert_exporter": "python",
   "pygments_lexer": "ipython3",
   "version": "3.7.5"
  }
 },
 "nbformat": 4,
 "nbformat_minor": 4
}

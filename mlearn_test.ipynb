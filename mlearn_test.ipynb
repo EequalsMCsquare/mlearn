{
 "cells": [
  {
   "cell_type": "markdown",
   "metadata": {},
   "source": [
    "# 使用torchvision的數據集"
   ]
  },
  {
   "cell_type": "code",
   "execution_count": 1,
   "metadata": {},
   "outputs": [],
   "source": [
    "import mlearn as mlearn\n",
    "from mlearn import functional as F\n",
    "from mlearn import layers\n",
    "from mlearn.optimizers import SGD, RMSProp, Momentum, Adam\n",
    "from torchvision import datasets\n",
    "import numpy as np\n",
    "import matplotlib.pyplot as plt\n",
    "from mlearn.utils import DataLoader\n",
    "from mlearn.utils import pre_F as P\n",
    "import sys\n",
    "from time import time"
   ]
  },
  {
   "cell_type": "markdown",
   "metadata": {},
   "source": [
    "# 加載數據集"
   ]
  },
  {
   "cell_type": "code",
   "execution_count": 12,
   "metadata": {},
   "outputs": [],
   "source": [
    "train = datasets.MNIST(\"datasets\", train=True, download=True)\n",
    "\n",
    "test = datasets.MNIST(\"datasets\", train=False, download=True)\n",
    "\n",
    "pre = [P.normalize_MinMax]\n",
    "# pre = [P.normalize]\n",
    "# pre = []\n",
    "trainset = DataLoader((train.data,train.targets),batch_size=32,shuffle=True,\n",
    "                      preprocessing=pre)\n",
    "testset = DataLoader((test.data, test.targets), batch_size=32, shuffle=True,\n",
    "                    preprocessing=pre)"
   ]
  },
  {
   "cell_type": "code",
   "execution_count": 13,
   "metadata": {},
   "outputs": [],
   "source": [
    "class Simple_Net(mlearn.Module):\n",
    "    def __init__(self):\n",
    "        super(Simple_Net,self).__init__()\n",
    "        self.dense1 = layers.Dense(784,300)\n",
    "        self.dense2 = layers.Dense(300,10)\n",
    "\n",
    "        \n",
    "    def forward(self, inputs):\n",
    "        o = self.dense1(inputs)\n",
    "        o = F.tanh(o)\n",
    "        o = self.dense2(o)\n",
    "        o = F.relu(o)\n",
    "        return o"
   ]
  },
  {
   "cell_type": "code",
   "execution_count": 14,
   "metadata": {},
   "outputs": [
    {
     "name": "stdout",
     "output_type": "stream",
     "text": [
      "网络参数加载完毕\n"
     ]
    }
   ],
   "source": [
    "class Net(mlearn.Module):\n",
    "    def __init__(self):\n",
    "        super(Net,self).__init__()\n",
    "        self.dense1 = layers.Dense(784,500)\n",
    "        self.dense2 = layers.Dense(500,256)\n",
    "        self.dense3 = layers.Dense(256,128)\n",
    "        self.dense4 = layers.Dense(128, 64)\n",
    "        self.dense5 = layers.Dense(64 , 10)\n",
    "        \n",
    "    def forward(self, inputs):\n",
    "        o = self.dense1(inputs)\n",
    "        o = F.relu(o)\n",
    "        o = self.dense2(o)\n",
    "        o = F.relu(o)\n",
    "        o = self.dense3(o)\n",
    "        o = F.relu(o)\n",
    "        o = self.dense4(o)\n",
    "        o = F.leaky_relu(o,0.01)\n",
    "        o = self.dense5(o)\n",
    "        o = F.leaky_relu(o, 0.01)\n",
    "        return o\n",
    "net = Net()\n",
    "net.load_wb('saved_param/Param4Test.pkl')\n",
    "hist = []"
   ]
  },
  {
   "cell_type": "code",
   "execution_count": 15,
   "metadata": {},
   "outputs": [
    {
     "name": "stdout",
     "output_type": "stream",
     "text": [
      "1/10  [AVG Loss -> 0.44371]\n",
      "2/10  [AVG Loss -> 0.09050]\n",
      "3/10  [AVG Loss -> 0.06110]\n",
      "4/10  [AVG Loss -> 0.04394]\n",
      "5/10  [AVG Loss -> 0.03529]\n",
      "6/10  [AVG Loss -> 0.03109]\n",
      "7/10  [AVG Loss -> 0.02512]\n",
      "8/10  [AVG Loss -> 0.02570]\n",
      "9/10  [AVG Loss -> 0.02029]\n",
      "10/10  [AVG Loss -> 0.01907]\n",
      "Finished in 156.5337255001068\n",
      "trainning completed!\n"
     ]
    }
   ],
   "source": [
    "# 如果features没有进行规一化处理的话,并且激活函数全部使用relu家族会导致权重爆炸 (Weights -> Nan)\n",
    "# Solution: 规一化或者加入非线性激活函数可以解决 如 Tanh\n",
    "# Tanh 会使神经网络拟合速度降低, 并且速度不如 ReLU\n",
    "# 但是Tanh可以避免梯度消失,对于一些规模很小的神经网络\n",
    "\n",
    "def fit(hist):\n",
    "    optimizer = Adam(net,0.001)\n",
    "    EPOCHS = 10\n",
    "    start = time()\n",
    "    for epoch in range(EPOCHS):\n",
    "        running_loss = 0.0\n",
    "#         bar = \" \"*20\n",
    "        for i, batch in enumerate(trainset, 0):\n",
    "            features, labels = batch\n",
    "            net.zero_grad()\n",
    "            predict = net(features.reshape(-1,784))\n",
    "            loss = F.cross_entropy(predict, labels)\n",
    "            loss.backward()\n",
    "            optimizer.step()\n",
    "            running_loss += loss.data\n",
    "#             print(f\"\\r{epoch+1}/{EPOCHS} Batch %-4d/1874  [{bar}] -> AVG Loss %.5f\"%(i,running_loss/(i+1)), end=\"\")\n",
    "#             sys.stdout.flush()\n",
    "        print(f\"{epoch+1}/{EPOCHS}  [AVG Loss -> %.5f]\"%(running_loss/(i+1)))\n",
    "        hist.append(running_loss/(i+1))\n",
    "    print(f\"Finished in {time() - start}\")\n",
    "    print('trainning completed!')\n",
    "fit(hist)"
   ]
  },
  {
   "cell_type": "code",
   "execution_count": 16,
   "metadata": {},
   "outputs": [
    {
     "name": "stdout",
     "output_type": "stream",
     "text": [
      "Accuracy 0.98003\n"
     ]
    },
    {
     "data": {
      "image/png": "[encoded data removed]",
      "text/plain": [
       "<Figure size 432x288 with 1 Axes>"
      ]
     },
     "metadata": {
      "needs_background": "light"
     },
     "output_type": "display_data"
    }
   ],
   "source": [
    "correct = 0\n",
    "total = 0\n",
    "\n",
    "for batch in testset:\n",
    "    features, labels = batch\n",
    "    o = net(features.reshape(-1,784))\n",
    "    predict = []\n",
    "    for x in o.data:\n",
    "        predict.append(np.argmax(x))\n",
    "    for b in predict == labels.data:\n",
    "        if b:\n",
    "            correct += 1\n",
    "    total += 32\n",
    "print(\"Accuracy %.5f\"%(correct / total))\n",
    "\n",
    "plt.plot(hist)\n",
    "plt.show()"
   ]
  },
  {
   "cell_type": "code",
   "execution_count": null,
   "metadata": {},
   "outputs": [],
   "source": []
  }
 ],
 "metadata": {
  "kernelspec": {
   "display_name": "Python 3",
   "language": "python",
   "name": "python3"
  },
  "language_info": {
   "codemirror_mode": {
    "name": "ipython",
    "version": 3
   },
   "file_extension": ".py",
   "mimetype": "text/x-python",
   "name": "python",
   "nbconvert_exporter": "python",
   "pygments_lexer": "ipython3",
   "version": "3.7.5"
  }
 },
 "nbformat": 4,
 "nbformat_minor": 4
}

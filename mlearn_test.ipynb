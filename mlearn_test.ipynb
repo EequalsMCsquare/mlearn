{
 "cells": [
  {
   "cell_type": "markdown",
   "metadata": {},
   "source": [
    "# 使用torchvision的數據集"
   ]
  },
  {
   "cell_type": "code",
   "execution_count": 1,
   "metadata": {},
   "outputs": [],
   "source": [
    "import mlearn as mlearn\n",
    "from mlearn import functional as F\n",
    "from mlearn import layers\n",
    "from mlearn.optimizers import SGD, RMSProp, Momentum\n",
    "from torchvision import datasets\n",
    "import numpy as np\n",
    "import matplotlib.pyplot as plt\n",
    "from mlearn.utils import DataLoader\n",
    "from mlearn.utils import pre_F as P\n",
    "import sys\n",
    "from time import time\n",
    "import pickle"
   ]
  },
  {
   "cell_type": "markdown",
   "metadata": {},
   "source": [
    "# 加載數據集"
   ]
  },
  {
   "cell_type": "code",
   "execution_count": 2,
   "metadata": {},
   "outputs": [],
   "source": [
    "train = datasets.FashionMNIST(\"datasets\", train=True, download=True)\n",
    "\n",
    "test = datasets.FashionMNIST(\"datasets\", train=False, download=True)\n",
    "\n",
    "pre = [P.normalize_MinMax]\n",
    "# pre = [P.normalize]\n",
    "# pre = []\n",
    "trainset = DataLoader((train.data,train.targets),batch_size=32,shuffle=True,\n",
    "                      preprocessing=pre)\n",
    "testset = DataLoader((test.data, test.targets), batch_size=32, shuffle=True,\n",
    "                    preprocessing=pre)"
   ]
  },
  {
   "cell_type": "code",
   "execution_count": 3,
   "metadata": {},
   "outputs": [],
   "source": [
    "class Net(mlearn.Module):\n",
    "    def __init__(self):\n",
    "        super(Net,self).__init__()\n",
    "        self.dense1 = layers.Dense(784,500)\n",
    "        self.dense2 = layers.Dense(500,256)\n",
    "        self.dense3 = layers.Dense(256,128)\n",
    "        self.dense4 = layers.Dense(128, 64)\n",
    "        self.dense5 = layers.Dense(64 , 10)\n",
    "        \n",
    "    def forward(self, inputs):\n",
    "        o = self.dense1(inputs)\n",
    "        o = F.relu(o)\n",
    "        o = self.dense2(o)\n",
    "        o = F.relu(o)\n",
    "        o = self.dense3(o)\n",
    "        o = F.relu(o)\n",
    "        o = self.dense4(o)\n",
    "        o = F.leaky_relu(o)\n",
    "        o = self.dense5(o)\n",
    "        o = F.leaky_relu(o)\n",
    "        return o\n",
    "net = Net()\n",
    "hist = []"
   ]
  },
  {
   "cell_type": "code",
   "execution_count": 5,
   "metadata": {},
   "outputs": [
    {
     "name": "stdout",
     "output_type": "stream",
     "text": [
      "1/20  [AVG Loss -> 0.73248]\n",
      "2/20  [AVG Loss -> 0.47027]\n",
      "3/20  [AVG Loss -> 0.42391]\n",
      "4/20  [AVG Loss -> 0.39511]\n",
      "5/20  [AVG Loss -> 0.37393]\n",
      "6/20  [AVG Loss -> 0.35706]\n",
      "7/20  [AVG Loss -> 0.34256]\n",
      "8/20  [AVG Loss -> 0.33013]\n",
      "9/20  [AVG Loss -> 0.31886]\n",
      "10/20  [AVG Loss -> 0.30870]\n",
      "11/20  [AVG Loss -> 0.29952]\n",
      "12/20  [AVG Loss -> 0.29088]\n",
      "13/20  [AVG Loss -> 0.28273]\n",
      "14/20  [AVG Loss -> 0.27510]\n",
      "15/20  [AVG Loss -> 0.26800]\n",
      "16/20  [AVG Loss -> 0.26095]\n",
      "17/20  [AVG Loss -> 0.25467]\n",
      "18/20  [AVG Loss -> 0.24849]\n",
      "19/20  [AVG Loss -> 0.24256]\n",
      "20/20  [AVG Loss -> 0.23666]\n",
      "Finished in 324.4850492477417\n",
      "trainning completed!\n"
     ]
    }
   ],
   "source": [
    "def fit(hist):\n",
    "    optimizer = Momentum(net,0.01)\n",
    "    EPOCHS = 20\n",
    "    start = time()\n",
    "    for epoch in range(EPOCHS):\n",
    "        running_loss = 0.0\n",
    "#         bar = \" \"*20\n",
    "        for i, batch in enumerate(trainset, 0):\n",
    "            features, labels = batch\n",
    "            net.zero_grad()\n",
    "            predict = net(features.reshape(-1,784))\n",
    "            loss = F.cross_entropy(predict, labels)\n",
    "            loss.backward()\n",
    "            optimizer.step()\n",
    "            running_loss += loss.data\n",
    "#             print(f\"\\r{epoch+1}/{EPOCHS} Batch %-4d/1874  [{bar}] -> AVG Loss %.5f\"%(i,running_loss/(i+1)), end=\"\")\n",
    "#             sys.stdout.flush()\n",
    "        print(f\"{epoch+1}/{EPOCHS}  [AVG Loss -> %.5f]\"%(running_loss/(i+1)))\n",
    "        hist.append(running_loss/(i+1))\n",
    "    print(f\"Finished in {time() - start}\")\n",
    "    print('trainning completed!')\n",
    "fit(hist)"
   ]
  },
  {
   "cell_type": "code",
   "execution_count": 6,
   "metadata": {},
   "outputs": [
    {
     "name": "stdout",
     "output_type": "stream",
     "text": [
      "Accuracy 0.87450\n"
     ]
    },
    {
     "data": {
      "image/png": "[encoded data removed]",
      "text/plain": [
       "<Figure size 432x288 with 1 Axes>"
      ]
     },
     "metadata": {
      "needs_background": "light"
     },
     "output_type": "display_data"
    }
   ],
   "source": [
    "correct = 0\n",
    "total = 0\n",
    "\n",
    "for batch in testset:\n",
    "    features, labels = batch\n",
    "    o = net(features.reshape(-1,784))\n",
    "    predict = []\n",
    "    for x in o.data:\n",
    "        predict.append(np.argmax(x))\n",
    "    for b in predict == labels.data:\n",
    "        if b:\n",
    "            correct += 1\n",
    "    total += 32\n",
    "print(\"Accuracy %.5f\"%(correct / total))\n",
    "\n",
    "plt.plot(hist)\n",
    "plt.show()"
   ]
  },
  {
   "cell_type": "code",
   "execution_count": null,
   "metadata": {},
   "outputs": [],
   "source": []
  }
 ],
 "metadata": {
  "kernelspec": {
   "display_name": "Python 3",
   "language": "python",
   "name": "python3"
  },
  "language_info": {
   "codemirror_mode": {
    "name": "ipython",
    "version": 3
   },
   "file_extension": ".py",
   "mimetype": "text/x-python",
   "name": "python",
   "nbconvert_exporter": "python",
   "pygments_lexer": "ipython3",
   "version": "3.7.5"
  }
 },
 "nbformat": 4,
 "nbformat_minor": 4
}
